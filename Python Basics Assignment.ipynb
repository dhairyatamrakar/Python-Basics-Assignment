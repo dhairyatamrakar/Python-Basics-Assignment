{
 "cells": [
  {
   "cell_type": "code",
   "execution_count": null,
   "id": "61004965-ad19-4c71-9106-2e3ceb0027bb",
   "metadata": {},
   "outputs": [],
   "source": [
    "# 1.Explain the key featu$es of Python that make it a popular choice for programming?\n",
    "# Ans:- it is easy to code \n",
    "#       Large Community Support\n",
    "#       Widely used in the Industry\n",
    "#       Large Standard Library\n",
    "#       Fullstack Development\n",
    "#       Obejct Oriented Language\n",
    "#       readability "
   ]
  },
  {
   "cell_type": "code",
   "execution_count": 1,
   "id": "0bcb1f85-9d32-43fe-941d-c1d3701e525d",
   "metadata": {},
   "outputs": [
    {
     "name": "stdout",
     "output_type": "stream",
     "text": [
      "the no. is 10\n"
     ]
    }
   ],
   "source": [
    "# 2.Describe the role of predefined keywords in Python and provide examples of how they are used in a program.\n",
    "# Ans2:- Predefined keywords in Python, also known as reserved words, are words that have special meanings and are used to define the syntax and structure of the Python language. These keywords are reserved, meaning they cannot be used as identifiers (names for variables, functions, etc.) in your code. They serve as the building blocks of Python programming and are essential for writing functional and syntactically correct code.\n",
    "\n",
    "# Example:-\n",
    "i = 10\n",
    "if (i < 10):\n",
    "    print(\"the no. is less than 10\")\n",
    "elif (i > 10):\n",
    "    print(\"the no. is greater than 10\")\n",
    "else:\n",
    "    print(\"the no. is 10\")"
   ]
  },
  {
   "cell_type": "code",
   "execution_count": 3,
   "id": "c5f4391a-5db2-41b2-b675-4cb71b5ee50c",
   "metadata": {},
   "outputs": [
    {
     "name": "stdout",
     "output_type": "stream",
     "text": [
      "['Mohan', '34']\n",
      "Hello World\n"
     ]
    }
   ],
   "source": [
    "# 3.Compare and contrast mutable and immutable objects in Python with examples.\n",
    "# Ans3:- Mutable Objects -> Mutable objects are those whose value or state can be changed after they are created\n",
    "        #Immutable Objects -> Immutable objects are those whose state cannot be changed once they are created.\n",
    "    \n",
    "# Example for Mutable Objects:-\n",
    "# List ->\n",
    "l = [\"Rohan\", \"34\"]\n",
    "l[0] = \"Mohan\"\n",
    "print(l)\n",
    "\n",
    "# Example for Immutable Objects:-\n",
    "# String ->\n",
    "s = \"Hello World\"\n",
    "print(s)"
   ]
  },
  {
   "cell_type": "code",
   "execution_count": 26,
   "id": "36b173ac-dcdc-42ec-8c46-972d6574c7b5",
   "metadata": {},
   "outputs": [
    {
     "name": "stdout",
     "output_type": "stream",
     "text": [
      "20\n",
      "11\n",
      "<class 'str'>\n",
      "a is greater than b\n",
      "1\n",
      "2\n",
      "3\n",
      "4\n",
      "5\n",
      "rohan\n",
      "3\n",
      "5\n",
      "6\n",
      "7\n"
     ]
    }
   ],
   "source": [
    "# 4.Discuss the different types of operators in Python and provide examples of how they are used.\n",
    "# Ans4:- \n",
    "# Arithmetic operators -> Arithmetic operators are used to perform arithmetic/mathematical operations.\n",
    "# Example -\n",
    "a = 5\n",
    "b = 4\n",
    "print(a*b)\n",
    "\n",
    "# Assignment operators:\n",
    "# These operators are used to assign values to variables.\n",
    "# Example -\n",
    "c = 5\n",
    "d = 4\n",
    "c*=d\n",
    "\n",
    "# Bitwise operators:\n",
    "# Bitwise operators are used to deal with binary operations.\n",
    "# Example - \n",
    "10 & 10\n",
    "\n",
    "# Comparison operators:\n",
    "# These operators are used to compare values.\n",
    "# Example - \n",
    "a = 5\n",
    "b = 4\n",
    "a>b\n",
    "\n",
    "# Identity operators:\n",
    "# Identity operators are used to compare the objects, not if they are equal,\n",
    "# but if they are actually the same object, with the same memory location:\n",
    "# Example - \n",
    "a = 5\n",
    "b = 6\n",
    "a is not b\n",
    "\n",
    "# Logical operators:\n",
    "# These operators are used to deal with logical operations.\n",
    "# Example - \n",
    "a = 6\n",
    "b = 5\n",
    "if (a==6 or b==5):\n",
    "    print(a+b)\n",
    "else:\n",
    "    print(\"____\")\n",
    "    \n",
    "# Membership operators:\n",
    "# Membership operators are used to test if a sequence is presented in an object:\n",
    "# Example - \n",
    "a = \"Hello World\"\n",
    "b = \"Hello\"\n",
    "b in a\n",
    "\n",
    "# 5.Explain the concept of type casting in Python with examples.\n",
    "# Ans5:- The process of converting data from one type to another is called as type conversion.\n",
    "# Example - \n",
    "a = 45\n",
    "# type(a) >> integer \n",
    "# now converting into string\n",
    "a = str(a)\n",
    "print(type(a))\n",
    "\n",
    "# 6.How do conditional statements work in Python ? Illustrate with example.\n",
    "# Ans6:- As the name suggests, a conditional statement is used to handle conditions in your program.\n",
    "#        These statements guide the program while making decisions based on the conditions encountered by the program.\n",
    "# Example - \n",
    "a = 5\n",
    "b = 6\n",
    "if (a>b):\n",
    "    print(\"a is less than b\")\n",
    "elif (a<b):\n",
    "    print(\"a is greater than b\")\n",
    "else:\n",
    "    print(\"a is equal to b\")\n",
    "    \n",
    "# 7.Describe the different types of loops in Python and their use cases with examples.\n",
    "# Ans7:- Python provides two types of loops.\n",
    "\n",
    "# While Loop in Python\n",
    "# In Python, a while loop is used to execute a block of statements repeatedly until a given condition is satisfied.\n",
    "# Example - \n",
    "a = 0\n",
    "while (a<5):\n",
    "    a = a+1\n",
    "    print(a)\n",
    "    \n",
    "# For Loop in Python\n",
    "# A for loop is used for iterating over a sequence (that is either a list, a tuple, a dictionary, a set, or a string).\n",
    "# Example - \n",
    "a = [\"rohan\",3,5,6,7]\n",
    "for i in a :\n",
    "    print(i)"
   ]
  },
  {
   "cell_type": "code",
   "execution_count": null,
   "id": "07082f59-3166-4752-843f-5f79c63402db",
   "metadata": {},
   "outputs": [],
   "source": []
  },
  {
   "cell_type": "code",
   "execution_count": null,
   "id": "53e9fdf9-aaca-413e-b74a-3a2c1f06666a",
   "metadata": {},
   "outputs": [],
   "source": []
  },
  {
   "cell_type": "code",
   "execution_count": null,
   "id": "16c0be22-75a0-4aae-b4b8-1b42374cc0ce",
   "metadata": {},
   "outputs": [],
   "source": []
  }
 ],
 "metadata": {
  "kernelspec": {
   "display_name": "Python 3 (ipykernel)",
   "language": "python",
   "name": "python3"
  },
  "language_info": {
   "codemirror_mode": {
    "name": "ipython",
    "version": 3
   },
   "file_extension": ".py",
   "mimetype": "text/x-python",
   "name": "python",
   "nbconvert_exporter": "python",
   "pygments_lexer": "ipython3",
   "version": "3.10.8"
  }
 },
 "nbformat": 4,
 "nbformat_minor": 5
}
